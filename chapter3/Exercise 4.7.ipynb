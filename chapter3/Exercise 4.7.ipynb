{
 "cells": [
  {
   "cell_type": "code",
   "execution_count": 1,
   "metadata": {},
   "outputs": [],
   "source": [
    "import os\n",
    "import sys\n",
    "from matplotlib import pyplot as plt\n",
    "import random\n",
    "import numpy as np\n",
    "import pandas as pd\n",
    "import tqdm\n",
    "from abc import ABCMeta, abstractmethod, abstractproperty\n",
    "from copy import copy\n",
    "%matplotlib inline\n",
    "plt.style.use(\"ggplot\")\n",
    "%load_ext autoreload\n",
    "%autoreload 2"
   ]
  },
  {
   "cell_type": "markdown",
   "metadata": {},
   "source": [
    "## Exercise 4.7(1)"
   ]
  },
  {
   "cell_type": "code",
   "execution_count": 2,
   "metadata": {},
   "outputs": [],
   "source": [
    "class PoissonDistribution(object):\n",
    "    def __init__(self,ramda,random_state = random.randint(0,1000)):\n",
    "        self.ramda = ramda\n",
    "        self.rng = np.random.RandomState(random_state)\n",
    "        \n",
    "    def get_random(self):\n",
    "        randsum = self.rng.random()\n",
    "        \n",
    "        currentsum = 0\n",
    "        n = 0\n",
    "        while True:\n",
    "            currentsum += (self.ramda ** n) / np.math.factorial(n) * np.exp(-self.ramda)\n",
    "            if currentsum > randsum:\n",
    "                return n\n",
    "            n += 1\n",
    "    \n",
    "    def get_distribution(self,limit=10):\n",
    "        retprobs = []\n",
    "        for n in range(limit):\n",
    "            prob = (self.ramda ** n) / np.math.factorial(n) * np.exp(-self.ramda)\n",
    "            retprobs.append(prob)\n",
    "        return retprobs"
   ]
  },
  {
   "cell_type": "code",
   "execution_count": null,
   "metadata": {},
   "outputs": [],
   "source": [
    "class FiniteMDP(object):\n",
    "    def __init__(self,states,actions,rewards,dynamics):\n",
    "        self.states = states\n",
    "        self.actions = actions\n",
    "        self.rewards = rewards\n",
    "        self.dynamics = dynamics\n",
    "    \n",
    "    def simplify(self):\n",
    "        sim_dynamics = {}\n",
    "        for one_state in tqdm.tqdm(self.dynamics):\n",
    "            sim_dynamics[one_state] = {}\n",
    "            for one_action in self.dynamics[one_state]:\n",
    "                dynamic_dic = {}\n",
    "                prob_dic = {}\n",
    "                \n",
    "                sim_dynamics[one_state][one_action] = dynamic_dic\n",
    "                \n",
    "                for (next_state,reward),prob in self.dynamics[one_state][one_action].items():\n",
    "                    dynamic_dic.setdefault(next_state,0)\n",
    "                    dynamic_dic[next_state] += reward * prob\n",
    "                    prob_dic.setdefault(next_state,0)\n",
    "                    prob_dic[next_state] += prob\n",
    "                            \n",
    "                for next_state in list(dynamic_dic.keys()):\n",
    "                    avg_reward = dynamic_dic[next_state] / prob_dic[next_state]\n",
    "                    dynamic_dic[next_state,avg_reward] = prob_dic[next_state]\n",
    "                    del dynamic_dic[next_state]\n",
    "        return FiniteMDP(copy(self.states),copy(self.actions),copy(self.rewards),sim_dynamics)\n",
    "\n",
    "class MDPEnv(metaclass=ABCMeta):\n",
    "    def __init__(self):\n",
    "        pass\n",
    "    \n",
    "    @abstractmethod\n",
    "    def get_states(self):\n",
    "        pass\n",
    "    \n",
    "    @abstractmethod\n",
    "    def get_actions(self):\n",
    "        pass\n",
    "    \n",
    "    @abstractmethod\n",
    "    def get_rewards(self):\n",
    "        pass\n",
    "\n",
    "    @staticmethod\n",
    "    def get_dynamics(self):\n",
    "        pass\n",
    "    \n",
    "    def get_mdp(self):\n",
    "        states = self.get_states()\n",
    "        actions = self.get_actions()\n",
    "        rewards = self.get_rewards()\n",
    "        dynamics = self.get_dynamics()\n",
    "        return FiniteMDP(states,actions,rewards,dynamics)\n",
    "    \n",
    "class CarRentalEnv(MDPEnv):\n",
    "    def __init__(self,request_1=3,request_2=4,return_1=3,return_2=2,car_maxnumber=20,carmove_fee=2,max_carmove=5,rental_fee=10):\n",
    "        self.request_1_dis = PoissonDistribution(request_1).get_distribution()\n",
    "        self.request_2_dis = PoissonDistribution(request_2).get_distribution()\n",
    "        \n",
    "        self.return_1_dis = PoissonDistribution(return_1).get_distribution()\n",
    "        self.return_2_dis = PoissonDistribution(return_2).get_distribution()\n",
    "        \n",
    "        self.car_maxnumber = car_maxnumber\n",
    "        self.carmove_fee = carmove_fee\n",
    "        self.max_carmove = max_carmove\n",
    "        self.rental_fee = rental_fee\n",
    "    \n",
    "    def get_states(self):\n",
    "        return [i for i in range((self.car_maxnumber + 1) * (self.car_maxnumber + 1))]\n",
    "    \n",
    "    def get_actions(self):\n",
    "        return list(range(-self.max_carmove,self.max_carmove + 1))\n",
    "    \n",
    "    def get_rewards(self):\n",
    "        # 这个reward种类着实有点多啊，先不遍历\n",
    "        pass\n",
    "    \n",
    "    def get_state_dynamics(self,state,carmoved):\n",
    "        state2ab = lambda s:divmod(s,self.car_maxnumber + 1)\n",
    "        ab2state = lambda a,b: a * (self.car_maxnumber + 1) + b\n",
    "        \n",
    "        reward_movecar = -self.carmove_fee * carmoved\n",
    "        \n",
    "        reward_tostate_prob = {}\n",
    "        a_num,b_num = state2ab(state)\n",
    "        #assert(a_num <= self.car_maxnumber and b_num <= self.car_maxnumber)\n",
    "        for request_1,request_1_prob in enumerate(self.request_1_dis):\n",
    "            for return_1,return_1_prob in enumerate(self.return_1_dis):\n",
    "                for request_2,request_2_prob in enumerate(self.request_2_dis):\n",
    "                    for return_2,return_2_prob in enumerate(self.return_2_dis):\n",
    "                        reward_1 = min(request_1,a_num) * self.rental_fee\n",
    "                        reward_2 = min(request_2,b_num) * self.rental_fee\n",
    "                        \n",
    "                        remain_1 = a_num - min(request_1,a_num) + return_1\n",
    "                        remain_2 = b_num - min(request_2,b_num) + return_2\n",
    "                        remain_1 = min(remain_1,self.car_maxnumber)\n",
    "                        remain_2 = min(remain_2,self.car_maxnumber)\n",
    "                        \n",
    "                        assert(remain_1 >= 0 and remain_2 >= 0)\n",
    "                        \n",
    "                        nextstate = ab2state(remain_1,remain_2)\n",
    "                        total_reward = reward_movecar + reward_1 + reward_2\n",
    "                        \n",
    "                        reward_tostate_prob.setdefault((nextstate,total_reward),0)\n",
    "                        reward_tostate_prob[(nextstate,total_reward)] += request_1_prob * request_2_prob * return_1_prob * return_2_prob\n",
    "        return reward_tostate_prob\n",
    "        \n",
    "    def get_dynamics(self):\n",
    "        state2ab = lambda s:divmod(s,self.car_maxnumber + 1)\n",
    "        ab2state = lambda a,b: a * (self.car_maxnumber + 1) + b\n",
    "        \n",
    "        dynamics = {}\n",
    "        \n",
    "        for one_state in tqdm.tqdm(range((self.car_maxnumber + 1) * (self.car_maxnumber + 1))):\n",
    "            dynamics[one_state] = {}\n",
    "            a_num,b_num = state2ab(one_state)\n",
    "            for one_action in self.get_actions():\n",
    "                a2bnum = one_action\n",
    "                if a2bnum > a_num or - a2bnum > b_num:\n",
    "                    continue\n",
    "                \n",
    "                dynamics[one_state][one_action] = {}\n",
    "                \n",
    "                # a2bnum为正时为从a到b移动车辆，反之为从b到a\n",
    "                a_moved_num,b_moved_num = a_num - a2bnum,b_num + a2bnum\n",
    "                assert(a_moved_num >= 0 and b_moved_num >= 0)\n",
    "                to_state = ab2state(a_moved_num,b_moved_num)\n",
    "                \n",
    "                dynamics[one_state][one_action] = self.get_state_dynamics(to_state,np.abs(a2bnum))\n",
    "        return dynamics\n",
    "    "
   ]
  },
  {
   "cell_type": "code",
   "execution_count": 4,
   "metadata": {},
   "outputs": [],
   "source": [
    "carRentalEnv = CarRentalEnv()"
   ]
  },
  {
   "cell_type": "code",
   "execution_count": 5,
   "metadata": {},
   "outputs": [
    {
     "name": "stderr",
     "output_type": "stream",
     "text": [
      "100%|██████████| 441/441 [02:37<00:00,  2.81it/s]\n"
     ]
    }
   ],
   "source": [
    "mdp = carRentalEnv.get_mdp()\n",
    "dynamics = mdp.dynamics"
   ]
  },
  {
   "cell_type": "code",
   "execution_count": 6,
   "metadata": {},
   "outputs": [
    {
     "name": "stderr",
     "output_type": "stream",
     "text": [
      "100%|██████████| 441/441 [00:32<00:00, 13.41it/s]\n"
     ]
    }
   ],
   "source": [
    "mdp_simplify = mdp.simplify()\n",
    "dynamics_simplify = mdp_simplify.dynamics"
   ]
  },
  {
   "cell_type": "code",
   "execution_count": 7,
   "metadata": {},
   "outputs": [],
   "source": [
    "class PolicyIterationSolver(object):\n",
    "    def __init__(self,mdp,ramda=0.9):\n",
    "        self.mdp = mdp\n",
    "        self.dynamics = self.mdp.dynamics\n",
    "        self.states = self.mdp.states\n",
    "        \n",
    "        self.actions = self.mdp.actions\n",
    "        self.action2ind = dict(zip(self.actions,list(range(len(self.actions)))))\n",
    "        self.ind2action = dict(zip(list(range(len(self.actions))),self.actions))\n",
    "        \n",
    "        assert(0 in self.actions)\n",
    "        \n",
    "        self.Q_values = np.zeros([len(self.states),len(self.actions)],dtype=np.float)\n",
    "        self.strategy = np.zeros(len(self.states),dtype=np.int)\n",
    "        self.ramda = ramda\n",
    "        \n",
    "    def policy_evaluation_iter(self):\n",
    "        delta = 0\n",
    "        for one_state in self.states:\n",
    "            for one_action in self.dynamics[one_state]:\n",
    "                action_ind = self.action2ind[one_action]\n",
    "                q = self.Q_values[one_state][action_ind]\n",
    "                \n",
    "                new_q = 0\n",
    "                # TODO 看看这里有没有bug\n",
    "                for (next_state,reward),prob in self.dynamics[one_state][one_action].items():\n",
    "                    new_q += (\n",
    "                            prob * (reward + self.ramda * self.Q_values[next_state,self.action2ind[self.strategy[next_state]]])\n",
    "                        )\n",
    "                delta = max(delta,np.abs(q - new_q))\n",
    "                self.Q_values[one_state][action_ind] = new_q\n",
    "        return delta\n",
    "    \n",
    "    def policy_evaluation(self,eps=0.1,max_step=100):\n",
    "        for one_step in range(max_step):\n",
    "            delta = self.policy_evaluation_iter()\n",
    "            print(\"delta for step {}: {}\".format(one_step + 1,delta))\n",
    "            if delta < eps:\n",
    "                break\n",
    "    \n",
    "    def policy_improvement(self):\n",
    "        policy_stable = True\n",
    "        \n",
    "        for one_state in self.states:\n",
    "            old_action = self.strategy[one_state]\n",
    "            \n",
    "            new_action = None\n",
    "            max_q = -np.inf\n",
    "            for one_action in self.dynamics[one_state]:\n",
    "                action_ind = self.action2ind[one_action]\n",
    "                qsa = self.Q_values[one_state][action_ind]\n",
    "                if qsa > max_q:\n",
    "                    max_q = qsa\n",
    "                    new_action = one_action\n",
    "            assert(new_action is not None)\n",
    "            if new_action != old_action:\n",
    "                policy_stable = False\n",
    "            self.strategy[one_state] = new_action\n",
    "        return policy_stable\n",
    "    \n",
    "    def solve(self,steps=100):\n",
    "        current_step = 0\n",
    "        while current_step < steps:\n",
    "            current_step += 1\n",
    "            print(\"Evaluating,step {}\".format(current_step))\n",
    "            self.policy_evaluation()\n",
    "            policy_stable = self.policy_improvement()\n",
    "            print(\"Improved,step {}\".format(current_step))\n",
    "            if policy_stable:\n",
    "                break"
   ]
  },
  {
   "cell_type": "code",
   "execution_count": 8,
   "metadata": {},
   "outputs": [],
   "source": [
    "pis = PolicyIterationSolver(mdp_simplify)"
   ]
  },
  {
   "cell_type": "code",
   "execution_count": 9,
   "metadata": {},
   "outputs": [
    {
     "name": "stdout",
     "output_type": "stream",
     "text": [
      "Evaluating,step 1\n",
      "delta for step 1: 218.1057968975199\n",
      "delta for step 2: 156.62599029853484\n",
      "delta for step 3: 91.25370244457719\n",
      "delta for step 4: 63.63560638107518\n",
      "delta for step 5: 49.7508246166214\n",
      "delta for step 6: 38.10887805213747\n",
      "delta for step 7: 29.343617957687286\n",
      "delta for step 8: 22.945149327787817\n",
      "delta for step 9: 18.880768982070776\n",
      "delta for step 10: 15.601811185734618\n",
      "delta for step 11: 12.857391621745649\n",
      "delta for step 12: 10.569213509213284\n",
      "delta for step 13: 8.667883923962677\n",
      "delta for step 14: 7.093135923084162\n",
      "delta for step 15: 5.792969996137572\n",
      "delta for step 16: 4.722689644389391\n",
      "delta for step 17: 3.844049172027667\n",
      "delta for step 18: 3.1245051688426884\n",
      "delta for step 19: 2.5365344881808483\n",
      "delta for step 20: 2.0569996046215238\n",
      "delta for step 21: 1.6665585461769865\n",
      "delta for step 22: 1.3491234165542778\n",
      "delta for step 23: 1.0913719596189821\n",
      "delta for step 24: 0.8823143808916143\n",
      "delta for step 25: 0.7129149427040602\n",
      "delta for step 26: 0.5757656448821535\n",
      "delta for step 27: 0.4648078430619762\n",
      "delta for step 28: 0.37509688236201555\n",
      "delta for step 29: 0.30260457495029414\n",
      "delta for step 30: 0.24405445925162894\n",
      "delta for step 31: 0.19678510806278382\n",
      "delta for step 32: 0.15863720002209902\n",
      "delta for step 33: 0.12786056286080338\n",
      "delta for step 34: 0.10303789206608371\n",
      "delta for step 35: 0.08302231739196486\n",
      "Improved,step 1\n",
      "Evaluating,step 2\n",
      "delta for step 1: 50.560073503360286\n",
      "delta for step 2: 22.27494232648013\n",
      "delta for step 3: 1.615394376611448\n",
      "delta for step 4: 1.3247686847049636\n",
      "delta for step 5: 1.0878274825354879\n",
      "delta for step 6: 0.8786051091495324\n",
      "delta for step 7: 0.7067434364490168\n",
      "delta for step 8: 0.5678539163474738\n",
      "delta for step 9: 0.45606308743202817\n",
      "delta for step 10: 0.3662050844494047\n",
      "delta for step 11: 0.2940198736179127\n",
      "delta for step 12: 0.2360491172206025\n",
      "delta for step 13: 0.18950132496030392\n",
      "delta for step 14: 0.15212910895985488\n",
      "delta for step 15: 0.12212543855957847\n",
      "delta for step 16: 0.09803832258131706\n",
      "Improved,step 2\n",
      "Evaluating,step 3\n",
      "delta for step 1: 4.39288713731105\n",
      "delta for step 2: 3.245732518865907\n",
      "delta for step 3: 1.9094341402613964\n",
      "delta for step 4: 1.2557501162464177\n",
      "delta for step 5: 0.8130924874187713\n",
      "delta for step 6: 0.523747337829036\n",
      "delta for step 7: 0.3402175504749039\n",
      "delta for step 8: 0.23969469786271702\n",
      "delta for step 9: 0.1771476266718537\n",
      "delta for step 10: 0.13230797706330577\n",
      "delta for step 11: 0.10024527109675319\n",
      "delta for step 12: 0.0771589333582483\n",
      "Improved,step 3\n",
      "Evaluating,step 4\n",
      "delta for step 1: 0.34592194720801217\n",
      "delta for step 2: 0.18354099132125157\n",
      "delta for step 3: 0.09290327438088752\n",
      "Improved,step 4\n",
      "Evaluating,step 5\n",
      "delta for step 1: 0.06328806526914832\n",
      "Improved,step 5\n"
     ]
    }
   ],
   "source": [
    "pis.solve(100)"
   ]
  },
  {
   "cell_type": "code",
   "execution_count": 10,
   "metadata": {},
   "outputs": [
    {
     "data": {
      "text/plain": [
       "<matplotlib.image.AxesImage at 0x122585090>"
      ]
     },
     "execution_count": 10,
     "metadata": {},
     "output_type": "execute_result"
    },
    {
     "data": {
      "image/png": "[encoded data removed]",
      "text/plain": [
       "<Figure size 504x504 with 1 Axes>"
      ]
     },
     "metadata": {
      "needs_background": "light"
     },
     "output_type": "display_data"
    }
   ],
   "source": [
    "plt.figure(figsize=(7,7))\n",
    "plt.imshow(np.asarray(pis.strategy).reshape(21,21)[::-1])"
   ]
  },
  {
   "cell_type": "markdown",
   "metadata": {},
   "source": [
    "## Exercise 4.7(2)"
   ]
  },
  {
   "cell_type": "code",
   "execution_count": 11,
   "metadata": {},
   "outputs": [],
   "source": [
    "class ModCarRentalEnv(CarRentalEnv):\n",
    "    def __init__(self,a2bfree=1,second_parking_fee=4,second_parking_threshold=10):\n",
    "        super().__init__()\n",
    "        self.a2bfree = a2bfree\n",
    "        self.second_parking_fee = second_parking_fee\n",
    "        self.second_parking_threshold = second_parking_threshold\n",
    "    \n",
    "    def get_state_dynamics(self,state,carmoved):\n",
    "        state2ab = lambda s:divmod(s,self.car_maxnumber + 1)\n",
    "        ab2state = lambda a,b: a * (self.car_maxnumber + 1) + b\n",
    "        \n",
    "        reward_movecar = -self.carmove_fee * carmoved\n",
    "        # 特殊规则1 Jack‘s employee\n",
    "        if carmoved == 1:\n",
    "            reward_movecar = 0\n",
    "        \n",
    "        reward_tostate_prob = {}\n",
    "        a_num,b_num = state2ab(state)\n",
    "        #assert(a_num <= self.car_maxnumber and b_num <= self.car_maxnumber)\n",
    "        for request_1,request_1_prob in enumerate(self.request_1_dis):\n",
    "            for return_1,return_1_prob in enumerate(self.return_1_dis):\n",
    "                for request_2,request_2_prob in enumerate(self.request_2_dis):\n",
    "                    for return_2,return_2_prob in enumerate(self.return_2_dis):\n",
    "                        reward_1 = min(request_1,a_num) * self.rental_fee\n",
    "                        reward_2 = min(request_2,b_num) * self.rental_fee\n",
    "                        \n",
    "                        remain_1 = a_num - min(request_1,a_num) + return_1\n",
    "                        remain_2 = b_num - min(request_2,b_num) + return_2\n",
    "                        remain_1 = min(remain_1,self.car_maxnumber)\n",
    "                        remain_2 = min(remain_2,self.car_maxnumber)\n",
    "                        \n",
    "                        assert(remain_1 >= 0 and remain_2 >= 0)\n",
    "                        \n",
    "                        # 特殊规则2 second parking lot\n",
    "                        reward_parking = 0\n",
    "                        if remain_1 > self.second_parking_threshold:\n",
    "                            reward_parking -= self.second_parking_fee\n",
    "                        if remain_2 > self.second_parking_threshold:\n",
    "                            reward_parking -= self.second_parking_fee\n",
    "                        \n",
    "                        nextstate = ab2state(remain_1,remain_2)\n",
    "                        total_reward = reward_movecar + reward_1 + reward_2 + reward_parking\n",
    "                        \n",
    "                        reward_tostate_prob.setdefault((nextstate,total_reward),0)\n",
    "                        reward_tostate_prob[(nextstate,total_reward)] += request_1_prob * request_2_prob * return_1_prob * return_2_prob\n",
    "        return reward_tostate_prob\n",
    "    "
   ]
  },
  {
   "cell_type": "code",
   "execution_count": 12,
   "metadata": {},
   "outputs": [],
   "source": [
    "modCarRentalEnv = ModCarRentalEnv()"
   ]
  },
  {
   "cell_type": "code",
   "execution_count": 13,
   "metadata": {},
   "outputs": [
    {
     "name": "stderr",
     "output_type": "stream",
     "text": [
      "100%|██████████| 441/441 [02:57<00:00,  2.48it/s]\n",
      "100%|██████████| 441/441 [00:29<00:00, 14.86it/s]\n"
     ]
    }
   ],
   "source": [
    "mod_mdp = modCarRentalEnv.get_mdp()\n",
    "mod_dynamics = mod_mdp.dynamics\n",
    "\n",
    "mod_mdp_simplify = mod_mdp.simplify()\n",
    "mod_dynamics_simplify = mod_mdp_simplify.dynamics"
   ]
  },
  {
   "cell_type": "code",
   "execution_count": 15,
   "metadata": {},
   "outputs": [
    {
     "name": "stdout",
     "output_type": "stream",
     "text": [
      "Evaluating,step 1\n",
      "delta for step 1: 197.47122672499938\n",
      "delta for step 2: 144.34917829285243\n",
      "delta for step 3: 84.52877414119607\n",
      "delta for step 4: 61.724082688387824\n",
      "delta for step 5: 48.50339080539561\n",
      "delta for step 6: 37.19069812693567\n",
      "delta for step 7: 28.59892810079424\n",
      "delta for step 8: 22.308565754000256\n",
      "delta for step 9: 18.355091338239646\n",
      "delta for step 10: 15.116113205895488\n",
      "delta for step 11: 12.42031099180872\n",
      "delta for step 12: 10.18373232049521\n",
      "delta for step 13: 8.333236200870317\n",
      "delta for step 14: 6.806248840531964\n",
      "delta for step 15: 5.549508072344167\n",
      "delta for step 16: 4.517777842130442\n",
      "delta for step 17: 3.672747748723623\n",
      "delta for step 18: 2.9821012277599266\n",
      "delta for step 19: 2.418704128517959\n",
      "delta for step 20: 1.9598826563446323\n",
      "delta for step 21: 1.5867769589060572\n",
      "delta for step 22: 1.2837653539274356\n",
      "delta for step 23: 1.037956696355593\n",
      "delta for step 24: 0.8387479868870287\n",
      "delta for step 25: 0.6774431098858713\n",
      "delta for step 26: 0.546927510285343\n",
      "delta for step 27: 0.4413929805334078\n",
      "delta for step 28: 0.35610653630624256\n",
      "delta for step 29: 0.28721751372216886\n",
      "delta for step 30: 0.23159740373506565\n",
      "delta for step 31: 0.18670745109022846\n",
      "delta for step 32: 0.15048961085636847\n",
      "delta for step 33: 0.1212770244860053\n",
      "delta for step 34: 0.0977207180931714\n",
      "Improved,step 1\n",
      "Evaluating,step 2\n",
      "delta for step 1: 65.53645351659401\n",
      "delta for step 2: 33.920383051946544\n",
      "delta for step 3: 3.5067371669489944\n",
      "delta for step 4: 2.848245884364246\n",
      "delta for step 5: 2.324002739959724\n",
      "delta for step 6: 1.8681013554429455\n",
      "delta for step 7: 1.5058878643003482\n",
      "delta for step 8: 1.211547488548831\n",
      "delta for step 9: 0.9738912957189996\n",
      "delta for step 10: 0.7824909032281084\n",
      "delta for step 11: 0.6285394886672862\n",
      "delta for step 12: 0.5047972530267089\n",
      "delta for step 13: 0.4053771080666593\n",
      "delta for step 14: 0.325518014340787\n",
      "delta for step 15: 0.26138097458482434\n",
      "delta for step 16: 0.2098756293917745\n",
      "delta for step 17: 0.16851669103255063\n",
      "delta for step 18: 0.13530664966549466\n",
      "delta for step 19: 0.10864062361071092\n",
      "delta for step 20: 0.08722948157191013\n",
      "Improved,step 2\n",
      "Evaluating,step 3\n",
      "delta for step 1: 10.68356106046258\n",
      "delta for step 2: 6.4759203915640455\n",
      "delta for step 3: 2.9941958109161533\n",
      "delta for step 4: 1.6500615459910932\n",
      "delta for step 5: 0.9770114967908512\n",
      "delta for step 6: 0.6061411978430442\n",
      "delta for step 7: 0.3915579633090829\n",
      "delta for step 8: 0.2914115997172644\n",
      "delta for step 9: 0.21853065590653387\n",
      "delta for step 10: 0.16596338936653865\n",
      "delta for step 11: 0.12766455827545542\n",
      "delta for step 12: 0.10217161288289844\n",
      "delta for step 13: 0.08211456661547345\n",
      "Improved,step 3\n",
      "Evaluating,step 4\n",
      "delta for step 1: 0.4018290509529834\n",
      "delta for step 2: 0.18606567165306842\n",
      "delta for step 3: 0.08526847913037727\n",
      "Improved,step 4\n"
     ]
    }
   ],
   "source": [
    "mod_pis = PolicyIterationSolver(mod_mdp_simplify)\n",
    "mod_pis.solve(100)"
   ]
  },
  {
   "cell_type": "code",
   "execution_count": 16,
   "metadata": {},
   "outputs": [
    {
     "data": {
      "text/plain": [
       "<matplotlib.image.AxesImage at 0x1f4b8ac90>"
      ]
     },
     "execution_count": 16,
     "metadata": {},
     "output_type": "execute_result"
    },
    {
     "data": {
      "image/png": "[encoded data removed]",
      "text/plain": [
       "<Figure size 504x504 with 1 Axes>"
      ]
     },
     "metadata": {
      "needs_background": "light"
     },
     "output_type": "display_data"
    }
   ],
   "source": [
    "plt.figure(figsize=(7,7))\n",
    "plt.imshow(np.asarray(mod_pis.strategy).reshape(21,21)[::-1])"
   ]
  },
  {
   "cell_type": "code",
   "execution_count": null,
   "metadata": {},
   "outputs": [],
   "source": []
  }
 ],
 "metadata": {
  "kernelspec": {
   "display_name": "Python 3",
   "language": "python",
   "name": "python3"
  },
  "language_info": {
   "codemirror_mode": {
    "name": "ipython",
    "version": 3
   },
   "file_extension": ".py",
   "mimetype": "text/x-python",
   "name": "python",
   "nbconvert_exporter": "python",
   "pygments_lexer": "ipython3",
   "version": "3.7.4"
  }
 },
 "nbformat": 4,
 "nbformat_minor": 4
}
