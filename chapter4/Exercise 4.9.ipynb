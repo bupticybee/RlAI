{
 "cells": [
  {
   "cell_type": "code",
   "execution_count": 1,
   "metadata": {},
   "outputs": [],
   "source": [
    "import os\n",
    "import sys\n",
    "from matplotlib import pyplot as plt\n",
    "import random\n",
    "import numpy as np\n",
    "import pandas as pd\n",
    "import tqdm\n",
    "from abc import ABCMeta, abstractmethod, abstractproperty\n",
    "from copy import copy\n",
    "%matplotlib inline\n",
    "plt.style.use(\"ggplot\")\n",
    "%load_ext autoreload\n",
    "%autoreload 2"
   ]
  },
  {
   "cell_type": "markdown",
   "metadata": {},
   "source": [
    "## Exercise 4.9"
   ]
  },
  {
   "cell_type": "code",
   "execution_count": 2,
   "metadata": {},
   "outputs": [],
   "source": [
    "class FiniteMDP(object):\n",
    "    def __init__(self,states,actions,rewards,dynamics,terminal_state_vals):\n",
    "        self.states = states\n",
    "        self.actions = actions\n",
    "        self.rewards = rewards\n",
    "        self.dynamics = dynamics\n",
    "        self.terminal_state_vals = terminal_state_vals\n",
    "        \n",
    "class MDPEnv(metaclass=ABCMeta):\n",
    "    def __init__(self):\n",
    "        pass\n",
    "    \n",
    "    @abstractmethod\n",
    "    def get_states(self):\n",
    "        pass\n",
    "    \n",
    "    @abstractmethod\n",
    "    def get_actions(self):\n",
    "        pass\n",
    "    \n",
    "    @abstractmethod\n",
    "    def get_rewards(self):\n",
    "        pass\n",
    "\n",
    "    @staticmethod\n",
    "    def get_dynamics(self):\n",
    "        pass\n",
    "    \n",
    "    @staticmethod\n",
    "    def get_terminal_state_vals(self):\n",
    "        pass\n",
    "    \n",
    "    def get_mdp(self):\n",
    "        states = self.get_states()\n",
    "        actions = self.get_actions()\n",
    "        rewards = self.get_rewards()\n",
    "        dynamics = self.get_dynamics()\n",
    "        terminal_state_vals = self.get_terminal_state_vals()\n",
    "        return FiniteMDP(states,actions,rewards,dynamics,terminal_state_vals)"
   ]
  },
  {
   "cell_type": "code",
   "execution_count": 3,
   "metadata": {},
   "outputs": [],
   "source": [
    "class GamblerEnv(MDPEnv):\n",
    "    def __init__(self,ph=0.25,target_chip=100):\n",
    "        self.ph = ph\n",
    "        self.target_chip = target_chip\n",
    "    \n",
    "    def get_states(self):\n",
    "        return [i for i in range(self.target_chip + 1)]\n",
    "    \n",
    "    def get_actions(self):\n",
    "        return [i for i in range(1,self.target_chip)]\n",
    "    \n",
    "    def get_rewards(self):\n",
    "        return [0,1]\n",
    "    \n",
    "    def get_terminal_state_vals(self):\n",
    "        return {0:0,100:0}\n",
    "    \n",
    "    def get_dynamics_state(self,one_state,one_action):\n",
    "        assert(one_action <= one_state and one_state <= self.target_chip)\n",
    "        assert(one_action > 0 and one_state >= 0)\n",
    "        dynamic_dic = {}\n",
    "        \n",
    "        lose_state = one_state - one_action\n",
    "        win_state = min(self.target_chip,one_state + one_action)\n",
    "        \n",
    "        if win_state == self.target_chip:\n",
    "            dynamic_dic[(win_state,1)] = self.ph\n",
    "        else:\n",
    "            dynamic_dic[(win_state,0)] = self.ph\n",
    "            \n",
    "        dynamic_dic[(lose_state,0)] = 1 - self.ph\n",
    "        return dynamic_dic\n",
    "        \n",
    "    def get_dynamics(self):\n",
    "        dynamics = {}\n",
    "        for one_state in tqdm.tqdm(self.get_states()):\n",
    "            if one_state == self.target_chip or one_state == 0:\n",
    "                continue\n",
    "            dynamics[one_state] = {}\n",
    "            for one_action in self.get_actions():\n",
    "                if one_action > one_state:\n",
    "                    continue\n",
    "                dynamics[one_state][one_action] = self.get_dynamics_state(one_state,one_action)\n",
    "        return dynamics"
   ]
  },
  {
   "cell_type": "code",
   "execution_count": 4,
   "metadata": {},
   "outputs": [
    {
     "name": "stderr",
     "output_type": "stream",
     "text": [
      "100%|██████████| 101/101 [00:00<00:00, 10152.78it/s]\n"
     ]
    }
   ],
   "source": [
    "gamblerEnv = GamblerEnv(ph=0.25)\n",
    "mdp = gamblerEnv.get_mdp()\n",
    "dynamics = mdp.dynamics"
   ]
  },
  {
   "cell_type": "markdown",
   "metadata": {},
   "source": [
    "## policy iteration"
   ]
  },
  {
   "cell_type": "code",
   "execution_count": 5,
   "metadata": {},
   "outputs": [],
   "source": [
    "class PolicyIterationSolver(object):\n",
    "    def __init__(self,mdp,ramda=1):\n",
    "        self.mdp = mdp\n",
    "        self.dynamics = self.mdp.dynamics\n",
    "        self.states = self.mdp.states\n",
    "        \n",
    "        self.actions = self.mdp.actions\n",
    "        self.action2ind = dict(zip(self.actions,list(range(len(self.actions)))))\n",
    "        self.ind2action = dict(zip(list(range(len(self.actions))),self.actions))\n",
    "        \n",
    "        self.Q_values = np.zeros([len(self.states),len(self.actions)],dtype=np.float)\n",
    "        self.strategy = np.ones(len(self.states),dtype=np.int)\n",
    "        self.ramda = ramda\n",
    "        \n",
    "    def policy_evaluation_iter(self):\n",
    "        delta = 0\n",
    "        for one_state in self.states:\n",
    "            if one_state in self.mdp.terminal_state_vals:\n",
    "                continue\n",
    "            for one_action in self.dynamics[one_state]:\n",
    "                action_ind = self.action2ind[one_action]\n",
    "                q = self.Q_values[one_state][action_ind]\n",
    "                \n",
    "                new_q = 0\n",
    "                for (next_state,reward),prob in self.dynamics[one_state][one_action].items():\n",
    "                    new_q += (\n",
    "                            prob * (reward + self.ramda * self.Q_values[next_state,self.action2ind[self.strategy[next_state]]])\n",
    "                        )\n",
    "                delta = max(delta,np.abs(q - new_q))\n",
    "                self.Q_values[one_state][action_ind] = new_q\n",
    "        return delta\n",
    "    \n",
    "    def policy_evaluation(self,eps=0.1,max_step=100):\n",
    "        for one_step in range(max_step):\n",
    "            delta = self.policy_evaluation_iter()\n",
    "            print(\"delta for step {}: {}\".format(one_step + 1,delta))\n",
    "            if delta < eps:\n",
    "                break\n",
    "    \n",
    "    def policy_improvement(self):\n",
    "        policy_stable = True\n",
    "        \n",
    "        for one_state in self.states:\n",
    "            if one_state in self.mdp.terminal_state_vals:\n",
    "                continue\n",
    "            old_action = self.strategy[one_state]\n",
    "            \n",
    "            new_action = None\n",
    "            max_q = -np.inf\n",
    "            for one_action in self.dynamics[one_state]:\n",
    "                action_ind = self.action2ind[one_action]\n",
    "                qsa = self.Q_values[one_state][action_ind]\n",
    "                if qsa > max_q:\n",
    "                    max_q = qsa\n",
    "                    new_action = one_action\n",
    "            assert(new_action is not None)\n",
    "            if new_action != old_action:\n",
    "                policy_stable = False\n",
    "            self.strategy[one_state] = new_action\n",
    "        return policy_stable\n",
    "    \n",
    "    def solve(self,steps=100):\n",
    "        for state,value in self.mdp.terminal_state_vals.items():\n",
    "            self.Q_values[state,:] = value\n",
    "        \n",
    "        current_step = 0\n",
    "        while current_step < steps:\n",
    "            current_step += 1\n",
    "            print(\"Evaluating,step {}\".format(current_step))\n",
    "            self.policy_evaluation()\n",
    "            policy_stable = self.policy_improvement()\n",
    "            print(\"Improved,step {}\".format(current_step))\n",
    "            if policy_stable:\n",
    "                break"
   ]
  },
  {
   "cell_type": "code",
   "execution_count": 6,
   "metadata": {},
   "outputs": [],
   "source": [
    "pis = PolicyIterationSolver(mdp)"
   ]
  },
  {
   "cell_type": "code",
   "execution_count": 7,
   "metadata": {},
   "outputs": [
    {
     "name": "stdout",
     "output_type": "stream",
     "text": [
      "Evaluating,step 1\n",
      "delta for step 1: 0.25\n",
      "delta for step 2: 0.0625\n",
      "Improved,step 1\n",
      "Evaluating,step 2\n",
      "delta for step 1: 0.583740234375\n",
      "delta for step 2: 0.14007568359375\n",
      "delta for step 3: 0.00732421875\n",
      "Improved,step 2\n",
      "Evaluating,step 3\n",
      "delta for step 1: 0.15435791015625\n",
      "delta for step 2: 0.0146942138671875\n",
      "Improved,step 3\n",
      "Evaluating,step 4\n",
      "delta for step 1: 0.03369140625\n",
      "Improved,step 4\n",
      "Evaluating,step 5\n",
      "delta for step 1: 0.0068206787109375\n",
      "Improved,step 5\n",
      "Evaluating,step 6\n",
      "delta for step 1: 0.0029301100876182318\n",
      "Improved,step 6\n",
      "Evaluating,step 7\n",
      "delta for step 1: 0.0020870542066404596\n",
      "Improved,step 7\n",
      "Evaluating,step 8\n",
      "delta for step 1: 0.0005303466205077711\n",
      "Improved,step 8\n",
      "Evaluating,step 9\n",
      "delta for step 1: 3.673369064927101e-06\n",
      "Improved,step 9\n",
      "Evaluating,step 10\n",
      "delta for step 1: 7.842318154871464e-07\n",
      "Improved,step 10\n",
      "Evaluating,step 11\n",
      "delta for step 1: 1.2531108950497583e-07\n",
      "Improved,step 11\n",
      "Evaluating,step 12\n",
      "delta for step 1: 3.1327772376243956e-08\n",
      "Improved,step 12\n",
      "Evaluating,step 13\n",
      "delta for step 1: 7.831943094060989e-09\n",
      "Improved,step 13\n"
     ]
    }
   ],
   "source": [
    "pis.solve(100)"
   ]
  },
  {
   "cell_type": "code",
   "execution_count": 8,
   "metadata": {},
   "outputs": [
    {
     "data": {
      "text/plain": [
       "<matplotlib.axes._subplots.AxesSubplot at 0x11fae0690>"
      ]
     },
     "execution_count": 8,
     "metadata": {},
     "output_type": "execute_result"
    },
    {
     "data": {
      "image/png": "[encoded data removed]",
      "text/plain": [
       "<Figure size 432x288 with 1 Axes>"
      ]
     },
     "metadata": {
      "needs_background": "light"
     },
     "output_type": "display_data"
    }
   ],
   "source": [
    "pd.DataFrame(pis.strategy).plot()"
   ]
  },
  {
   "cell_type": "markdown",
   "metadata": {},
   "source": [
    "## value iteration"
   ]
  },
  {
   "cell_type": "code",
   "execution_count": 9,
   "metadata": {},
   "outputs": [],
   "source": [
    "class ValueIterationSolver(object):\n",
    "    def __init__(self,mdp,ramda=1,theta=0.001):\n",
    "        self.mdp = mdp\n",
    "        self.dynamics = self.mdp.dynamics\n",
    "        self.states = self.mdp.states\n",
    "        \n",
    "        self.actions = self.mdp.actions\n",
    "        self.action2ind = dict(zip(self.actions,list(range(len(self.actions)))))\n",
    "        self.ind2action = dict(zip(list(range(len(self.actions))),self.actions))\n",
    "        \n",
    "        self.V = np.zeros(len(self.states),dtype=np.float)\n",
    "        self.strategy = np.ones(len(self.states),dtype=np.int)\n",
    "        self.ramda = ramda\n",
    "        self.theta = theta\n",
    "        \n",
    "    def solve_one_epoch(self):\n",
    "        delta = 0\n",
    "        for one_state in self.states:\n",
    "            if one_state in self.mdp.terminal_state_vals:\n",
    "                continue\n",
    "            \n",
    "            v = self.V[one_state]\n",
    "            new_action = None\n",
    "            max_v = -np.inf\n",
    "            \n",
    "            for one_action in self.dynamics[one_state]:\n",
    "                action_ind = self.action2ind[one_action]\n",
    "                \n",
    "                action_v = 0\n",
    "                for (next_state,reward),prob in self.dynamics[one_state][one_action].items():\n",
    "                    action_v += prob * (reward + self.ramda * self.V[next_state])\n",
    "                if action_v > max_v:\n",
    "                    max_v = action_v\n",
    "                    new_action = one_action\n",
    "            \n",
    "                    \n",
    "            delta = max(delta,np.abs(v - max_v))\n",
    "            self.V[one_state] = max_v\n",
    "            self.strategy[one_state] = new_action\n",
    "        return delta\n",
    "    \n",
    "    \n",
    "    def solve(self,steps=100):\n",
    "        for state,value in self.mdp.terminal_state_vals.items():\n",
    "            self.V[state] = value\n",
    "        \n",
    "        current_step = 0\n",
    "        while current_step < steps:\n",
    "            current_step += 1\n",
    "            delta = self.solve_one_epoch()\n",
    "            print(\"Value itered delta {},step {}\".format(delta,current_step))\n",
    "            if delta < self.theta:\n",
    "                break"
   ]
  },
  {
   "cell_type": "code",
   "execution_count": 17,
   "metadata": {},
   "outputs": [
    {
     "name": "stderr",
     "output_type": "stream",
     "text": [
      "100%|██████████| 101/101 [00:00<00:00, 2799.58it/s]\n"
     ]
    }
   ],
   "source": [
    "gamblerEnv = GamblerEnv(ph=0.55)\n",
    "mdp = gamblerEnv.get_mdp()\n",
    "dynamics = mdp.dynamics"
   ]
  },
  {
   "cell_type": "code",
   "execution_count": 18,
   "metadata": {},
   "outputs": [],
   "source": [
    "vis = ValueIterationSolver(mdp)"
   ]
  },
  {
   "cell_type": "code",
   "execution_count": 19,
   "metadata": {},
   "outputs": [
    {
     "name": "stdout",
     "output_type": "stream",
     "text": [
      "Value itered delta 0.991696234375,step 1\n",
      "Value itered delta 0.5398509531250001,step 2\n",
      "Value itered delta 0.2900956093750001,step 3\n",
      "Value itered delta 0.15955258515625007,step 4\n",
      "Value itered delta 0.08775392183593754,step 5\n",
      "Value itered delta 0.04826465700976565,step 6\n",
      "Value itered delta 0.015224352343750011,step 7\n",
      "Value itered delta 0.01076971062580051,step 8\n",
      "Value itered delta 0.010124195187359408,step 9\n",
      "Value itered delta 0.009579907118642927,step 10\n",
      "Value itered delta 0.009054600806272739,step 11\n",
      "Value itered delta 0.008637622755887198,step 12\n",
      "Value itered delta 0.008236638977621169,step 13\n",
      "Value itered delta 0.00789205871563703,step 14\n",
      "Value itered delta 0.007603619523461336,step 15\n",
      "Value itered delta 0.007338835721420189,step 16\n",
      "Value itered delta 0.007105248122453611,step 17\n",
      "Value itered delta 0.006884045591395882,step 18\n",
      "Value itered delta 0.0066635158411388895,step 19\n",
      "Value itered delta 0.0064741073332332255,step 20\n",
      "Value itered delta 0.006330431328930075,step 21\n",
      "Value itered delta 0.006180161052579569,step 22\n",
      "Value itered delta 0.0060290079669937935,step 23\n",
      "Value itered delta 0.005875737426014105,step 24\n",
      "Value itered delta 0.0057350194779985375,step 25\n",
      "Value itered delta 0.005617797441467953,step 26\n",
      "Value itered delta 0.005508625167929493,step 27\n",
      "Value itered delta 0.0054145615646779,step 28\n",
      "Value itered delta 0.005318801089351233,step 29\n",
      "Value itered delta 0.0052219727380217185,step 30\n",
      "Value itered delta 0.005124045563675739,step 31\n",
      "Value itered delta 0.00503052133019366,step 32\n",
      "Value itered delta 0.004956918276070699,step 33\n",
      "Value itered delta 0.004877212118708951,step 34\n",
      "Value itered delta 0.004797492336922393,step 35\n",
      "Value itered delta 0.004723922361748234,step 36\n",
      "Value itered delta 0.004659287854567762,step 37\n",
      "Value itered delta 0.004597997931030162,step 38\n",
      "Value itered delta 0.004537232506926836,step 39\n",
      "Value itered delta 0.004478074048961611,step 40\n",
      "Value itered delta 0.004415079970293445,step 41\n",
      "Value itered delta 0.0043538772670485,step 42\n",
      "Value itered delta 0.004303205210742289,step 43\n",
      "Value itered delta 0.004249242253858754,step 44\n",
      "Value itered delta 0.004196116010264372,step 45\n",
      "Value itered delta 0.004145371038708934,step 46\n",
      "Value itered delta 0.004092346561017757,step 47\n",
      "Value itered delta 0.004040028671329243,step 48\n",
      "Value itered delta 0.003998614997495875,step 49\n",
      "Value itered delta 0.003955918745413456,step 50\n",
      "Value itered delta 0.003912210384814707,step 51\n",
      "Value itered delta 0.0038707540083778857,step 52\n",
      "Value itered delta 0.0038298011344650718,step 53\n",
      "Value itered delta 0.0037945921929511406,step 54\n",
      "Value itered delta 0.00375695723747288,step 55\n",
      "Value itered delta 0.0037196676513260862,step 56\n",
      "Value itered delta 0.003688175272211658,step 57\n",
      "Value itered delta 0.00365290517488559,step 58\n",
      "Value itered delta 0.003616430578130103,step 59\n",
      "Value itered delta 0.0035804879356688968,step 60\n",
      "Value itered delta 0.0035474289296107964,step 61\n",
      "Value itered delta 0.003519864329708855,step 62\n",
      "Value itered delta 0.0034890149914156288,step 63\n",
      "Value itered delta 0.003456929515326279,step 64\n",
      "Value itered delta 0.0034243099489633666,step 65\n",
      "Value itered delta 0.0033914423844758623,step 66\n",
      "Value itered delta 0.003362288499637711,step 67\n",
      "Value itered delta 0.003334978993763782,step 68\n",
      "Value itered delta 0.0033069537615564304,step 69\n",
      "Value itered delta 0.003278471651713022,step 70\n",
      "Value itered delta 0.003249700235743891,step 71\n",
      "Value itered delta 0.0032211755371308604,step 72\n",
      "Value itered delta 0.003192722529481995,step 73\n",
      "Value itered delta 0.003164757586678335,step 74\n",
      "Value itered delta 0.0031382400632251617,step 75\n",
      "Value itered delta 0.003113512104234828,step 76\n",
      "Value itered delta 0.003089493468128701,step 77\n",
      "Value itered delta 0.0030653681102366104,step 78\n",
      "Value itered delta 0.0030416198817030393,step 79\n",
      "Value itered delta 0.0030182278822915576,step 80\n",
      "Value itered delta 0.0029947469948468086,step 81\n",
      "Value itered delta 0.002971051045022932,step 82\n",
      "Value itered delta 0.002947152528931629,step 83\n",
      "Value itered delta 0.0029231148493017445,step 84\n",
      "Value itered delta 0.0029023070502923742,step 85\n",
      "Value itered delta 0.0028848656207695056,step 86\n",
      "Value itered delta 0.002865581204427814,step 87\n",
      "Value itered delta 0.0028473167628914053,step 88\n",
      "Value itered delta 0.0028293731299617875,step 89\n",
      "Value itered delta 0.002811121407414463,step 90\n",
      "Value itered delta 0.0027926172085056544,step 91\n",
      "Value itered delta 0.002773898018934018,step 92\n",
      "Value itered delta 0.002754991019930597,step 93\n",
      "Value itered delta 0.0027359190847487946,step 94\n",
      "Value itered delta 0.002716715939986347,step 95\n",
      "Value itered delta 0.0027024417462581107,step 96\n",
      "Value itered delta 0.0026888279925250114,step 97\n",
      "Value itered delta 0.0026732552855872616,step 98\n",
      "Value itered delta 0.0026571407897117982,step 99\n",
      "Value itered delta 0.002640581570113265,step 100\n"
     ]
    }
   ],
   "source": [
    "vis.solve()"
   ]
  },
  {
   "cell_type": "code",
   "execution_count": 20,
   "metadata": {},
   "outputs": [
    {
     "data": {
      "text/plain": [
       "<matplotlib.axes._subplots.AxesSubplot at 0x120992690>"
      ]
     },
     "execution_count": 20,
     "metadata": {},
     "output_type": "execute_result"
    },
    {
     "data": {
      "image/png": "[encoded data removed]",
      "text/plain": [
       "<Figure size 432x288 with 1 Axes>"
      ]
     },
     "metadata": {
      "needs_background": "light"
     },
     "output_type": "display_data"
    }
   ],
   "source": [
    "pd.DataFrame(vis.strategy).plot()"
   ]
  },
  {
   "cell_type": "code",
   "execution_count": 22,
   "metadata": {},
   "outputs": [
    {
     "data": {
      "text/plain": [
       "<matplotlib.axes._subplots.AxesSubplot at 0x1207bf110>"
      ]
     },
     "execution_count": 22,
     "metadata": {},
     "output_type": "execute_result"
    },
    {
     "data": {
      "image/png": "[encoded data removed]",
      "text/plain": [
       "<Figure size 432x288 with 1 Axes>"
      ]
     },
     "metadata": {
      "needs_background": "light"
     },
     "output_type": "display_data"
    }
   ],
   "source": [
    "pd.DataFrame(vis.V).plot()"
   ]
  },
  {
   "cell_type": "code",
   "execution_count": null,
   "metadata": {},
   "outputs": [],
   "source": []
  },
  {
   "cell_type": "code",
   "execution_count": null,
   "metadata": {},
   "outputs": [],
   "source": []
  }
 ],
 "metadata": {
  "kernelspec": {
   "display_name": "Python 3",
   "language": "python",
   "name": "python3"
  },
  "language_info": {
   "codemirror_mode": {
    "name": "ipython",
    "version": 3
   },
   "file_extension": ".py",
   "mimetype": "text/x-python",
   "name": "python",
   "nbconvert_exporter": "python",
   "pygments_lexer": "ipython3",
   "version": "3.7.4"
  }
 },
 "nbformat": 4,
 "nbformat_minor": 4
}
