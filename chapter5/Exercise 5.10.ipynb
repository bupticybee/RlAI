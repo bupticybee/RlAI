{
 "cells": [
  {
   "cell_type": "code",
   "execution_count": 1,
   "metadata": {},
   "outputs": [],
   "source": [
    "import os\n",
    "import sys\n",
    "from matplotlib import pyplot as plt\n",
    "import random\n",
    "import numpy as np\n",
    "import pandas as pd\n",
    "import tqdm\n",
    "from abc import ABCMeta, abstractmethod, abstractproperty\n",
    "from copy import copy,deepcopy\n",
    "from collections import Counter\n",
    "%matplotlib inline\n",
    "plt.style.use(\"ggplot\")\n",
    "%load_ext autoreload\n",
    "%autoreload 2"
   ]
  },
  {
   "cell_type": "markdown",
   "metadata": {},
   "source": [
    "## Exercise 5.10 小车race track (Off-policy Mc control)"
   ]
  },
  {
   "cell_type": "code",
   "execution_count": 2,
   "metadata": {},
   "outputs": [],
   "source": [
    "class Env(metaclass=ABCMeta):\n",
    "    def __init__(self,rng_seed=random.randint(0,1000)):\n",
    "        self.rng = np.random.RandomState(rng_seed)\n",
    "    \n",
    "    @staticmethod\n",
    "    def get_actions(self):\n",
    "        pass\n",
    "    \n",
    "    @abstractmethod\n",
    "    def step(self,action):\n",
    "        pass\n",
    "        # return done,observation,reward,extra\n",
    "        \n",
    "    @abstractmethod\n",
    "    def get_observation(self):\n",
    "        pass\n",
    "    \n",
    "    @abstractmethod\n",
    "    def observation_to_state(self,observation):\n",
    "        pass\n",
    "    \n",
    "    @abstractmethod\n",
    "    def get_history(self,):\n",
    "        pass\n",
    "    \n",
    "    @abstractmethod\n",
    "    def get_state_shape(self):\n",
    "        pass\n",
    "        \n",
    "    @abstractmethod\n",
    "    def reset(self):\n",
    "        pass\n",
    "    \n",
    "class RaceTrackEnv(Env):\n",
    "    def __init__(self,plane,start_line,end_line,speed_limit=5):\n",
    "        super().__init__()\n",
    "        self.plane = plane\n",
    "        self.start_line = start_line\n",
    "        self.end_line = end_line\n",
    "        self.actions = [(i,j) for i in [-1,0,1] for j in [-1,0,1]]\n",
    "        self.reset()\n",
    "        self.speed_limit = speed_limit\n",
    "        self.end_dict = {}\n",
    "        for one_point in end_line:\n",
    "            self.end_dict[tuple(one_point)] = 1\n",
    "        self.w,self.h = plane.shape\n",
    "        \n",
    "        self.action2ind = {}\n",
    "        self.ind2action = {}\n",
    "        for i,one_action in enumerate(self.actions):\n",
    "            self.action2ind[one_action] = i\n",
    "            self.ind2action[i] = one_action\n",
    "    \n",
    "    def get_actions(self):\n",
    "        return self.actions\n",
    "    \n",
    "    def is_done(self,old_x,old_y):\n",
    "        for x in range(min(old_x,old_x + self.speed[0]),max(old_x,old_x + self.speed[0] + 1)):\n",
    "            if (x,old_y) in self.end_dict:\n",
    "                return True\n",
    "        \n",
    "        for y in range(min(old_y,old_y + self.speed[1]),max(old_y,old_y + self.speed[1] + 1)):\n",
    "            if (x,y) in self.end_dict:\n",
    "                return True\n",
    "        return False\n",
    "    \n",
    "    def step(self,action):\n",
    "        observation_last_step = self.get_observation()\n",
    "        current_state = self.observation_to_state(observation_last_step)\n",
    "        alpha_x,alpha_y = action\n",
    "        self.history.append((copy(current_state),copy(action)))\n",
    "        \n",
    "        old_speed_y = self.speed[1]\n",
    "        old_speed_x = self.speed[0]\n",
    "        \n",
    "        self.speed[0] += alpha_x\n",
    "        if self.speed[0] < -self.speed_limit:self.speed[0] = -self.speed_limit\n",
    "        elif self.speed[0] > self.speed_limit:self.speed[0] = self.speed_limit\n",
    "            \n",
    "        self.speed[1] += alpha_y\n",
    "        if self.speed[1] < -self.speed_limit:self.speed[1] = -self.speed_limit\n",
    "        elif self.speed[1] > self.speed_limit:self.speed[1] = self.speed_limit\n",
    "            \n",
    "        if self.speed[0] == 0 and self.speed[1] == 0:\n",
    "            self.speed[1] = old_speed_y\n",
    "            self.speed[0] = -1\n",
    "        \n",
    "        old_x,old_y = self.position\n",
    "        new_x = old_x + self.speed[0]\n",
    "        new_y = old_y + self.speed[1]\n",
    "        \n",
    "        assert(not(self.speed[0] == 0 and self.speed[1] == 0))\n",
    "        \n",
    "        self.position = [new_x,new_y]\n",
    "        #print(old_x,old_y)\n",
    "        #print(\"speed\",self.speed)\n",
    "            \n",
    "        is_done = self.is_done(old_x,old_y)\n",
    "        if new_x < 0 or new_x >= self.plane.shape[0] or new_y < 0 or new_y >= self.plane.shape[1]\\\n",
    "            or self.plane[new_x,new_y] < 0:\n",
    "            #print(\"returning\")\n",
    "            self.return_to_start()\n",
    "        if is_done:\n",
    "            return True,self.get_observation(),1,None\n",
    "        else:\n",
    "            return False,self.get_observation(),0,None\n",
    "        \n",
    "        \n",
    "        # return done,observation,reward,extra\n",
    "        \n",
    "    def get_observation(self):\n",
    "        return {\n",
    "            \"plane\": self.plane,\n",
    "            \"position\": self.position,\n",
    "            \"speed\": self.speed,\n",
    "        }\n",
    "    \n",
    "    def observation_to_state(self,observation):\n",
    "        position = observation[\"position\"]\n",
    "        speed = observation[\"speed\"]\n",
    "        speedx,speedy = speed\n",
    "        assert(speedx >= -self.speed_limit and speedx <= self.speed_limit)\n",
    "        assert(speedy >= -self.speed_limit and speedy <= self.speed_limit)\n",
    "        return list(position) + [speedx + self.speed_limit,speedy + self.speed_limit]\n",
    "    \n",
    "    def get_history(self):\n",
    "        return history\n",
    "    \n",
    "    def get_state_shape(self):\n",
    "        return list(self.plane.shape) + [self.speed_limit * 2 + 1,self.speed_limit * 2 + 1]\n",
    "    \n",
    "    def return_to_start(self):\n",
    "        self.position = self.start_line[self.rng.randint(0,len(self.start_line))]\n",
    "        self.position = copy(self.position)\n",
    "        self.speed = [0,0]\n",
    "        \n",
    "    def reset(self):\n",
    "        self.return_to_start()\n",
    "        self.history = []\n",
    "        "
   ]
  },
  {
   "cell_type": "code",
   "execution_count": 3,
   "metadata": {},
   "outputs": [],
   "source": [
    "class RaceTrackGenerator(object):\n",
    "    def __init__(self,width=32,height=32):\n",
    "        self.width = width\n",
    "        self.height = height\n",
    "        \n",
    "    def generate(self):\n",
    "        self.plane = -np.ones([self.width,self.height])\n",
    "        self.plane[:,:9] = 0\n",
    "        self.plane[:6,:20] = 0\n",
    "        start_points = []\n",
    "        end_points = []\n",
    "        for i in range(9):\n",
    "            start_points.append([self.width - 1,i])\n",
    "            \n",
    "        for i in range(6):\n",
    "            end_points.append([i,19])\n",
    "            \n",
    "        self.start_points = start_points\n",
    "        self.end_points = end_points\n",
    "        \n",
    "        for one_point in start_points:\n",
    "            self.plane[one_point[0],one_point[1]] = 1\n",
    "            \n",
    "        for one_point in end_points:\n",
    "            self.plane[one_point[0],one_point[1]] = 2\n",
    "        "
   ]
  },
  {
   "cell_type": "code",
   "execution_count": 4,
   "metadata": {},
   "outputs": [],
   "source": [
    "raceTrackGenerator = RaceTrackGenerator()"
   ]
  },
  {
   "cell_type": "code",
   "execution_count": 5,
   "metadata": {},
   "outputs": [],
   "source": [
    "raceTrackGenerator.generate()"
   ]
  },
  {
   "cell_type": "code",
   "execution_count": 6,
   "metadata": {},
   "outputs": [
    {
     "data": {
      "text/plain": [
       "<matplotlib.image.AxesImage at 0x11d33ccd0>"
      ]
     },
     "execution_count": 6,
     "metadata": {},
     "output_type": "execute_result"
    },
    {
     "data": {
      "image/png": "[encoded data removed]",
      "text/plain": [
       "<Figure size 432x288 with 1 Axes>"
      ]
     },
     "metadata": {
      "needs_background": "light"
     },
     "output_type": "display_data"
    }
   ],
   "source": [
    "plt.imshow(raceTrackGenerator.plane)"
   ]
  },
  {
   "cell_type": "code",
   "execution_count": 7,
   "metadata": {},
   "outputs": [],
   "source": [
    "raceTrackEnv = RaceTrackEnv(\n",
    "    raceTrackGenerator.plane,\n",
    "    raceTrackGenerator.start_points,\n",
    "    raceTrackGenerator.end_points)"
   ]
  },
  {
   "cell_type": "code",
   "execution_count": 8,
   "metadata": {},
   "outputs": [],
   "source": [
    "raceTrackEnv.reset()\n",
    "while True:\n",
    "    actions = random.choice(raceTrackEnv.get_actions())\n",
    "    done,observation,reward,extra = raceTrackEnv.step(actions)\n",
    "    if done:\n",
    "        break"
   ]
  },
  {
   "cell_type": "code",
   "execution_count": 9,
   "metadata": {},
   "outputs": [
    {
     "data": {
      "text/plain": [
       "3350"
      ]
     },
     "execution_count": 9,
     "metadata": {},
     "output_type": "execute_result"
    }
   ],
   "source": [
    "len(raceTrackEnv.history)"
   ]
  },
  {
   "cell_type": "code",
   "execution_count": 10,
   "metadata": {},
   "outputs": [
    {
     "name": "stdout",
     "output_type": "stream",
     "text": [
      "([17, 1, 2, 6], (-1, 0))\n",
      "([13, 2, 1, 6], (1, -1))\n",
      "([10, 2, 2, 5], (0, -1))\n",
      "([7, 1, 2, 4], (-1, -1))\n",
      "([31, 6, 5, 5], (-1, 0))\n",
      "([30, 6, 4, 5], (0, 1))\n",
      "([29, 7, 4, 6], (1, -1))\n",
      "([28, 8, 4, 6], (-1, -1))\n",
      "([26, 8, 3, 5], (1, 1))\n",
      "([31, 6, 5, 5], (0, 0))\n",
      "([30, 6, 4, 5], (0, 0))\n",
      "([29, 6, 4, 5], (1, 0))\n",
      "([28, 6, 4, 5], (-1, 0))\n",
      "([26, 6, 3, 5], (0, 0))\n",
      "([24, 6, 3, 5], (0, 0))\n",
      "([22, 6, 3, 5], (0, 0))\n",
      "([20, 6, 3, 5], (0, -1))\n",
      "([18, 5, 3, 4], (-1, -1))\n",
      "([15, 3, 2, 3], (1, 1))\n",
      "([13, 2, 3, 4], (0, 1))\n",
      "([11, 2, 3, 5], (1, -1))\n",
      "([10, 1, 4, 4], (-1, 1))\n",
      "([8, 1, 3, 5], (0, 0))\n",
      "([6, 1, 3, 5], (1, 1))\n",
      "([5, 2, 4, 6], (0, 1))\n",
      "([4, 4, 4, 7], (0, 0))\n",
      "([3, 6, 4, 7], (0, 1))\n",
      "([2, 9, 4, 8], (1, 1))\n",
      "([2, 13, 5, 9], (1, 0))\n",
      "([3, 17, 6, 9], (-1, 0))\n"
     ]
    }
   ],
   "source": [
    "for one_step in raceTrackEnv.history[-30:]:\n",
    "    print(one_step)"
   ]
  },
  {
   "cell_type": "markdown",
   "metadata": {},
   "source": [
    "### off policy 环境"
   ]
  },
  {
   "cell_type": "code",
   "execution_count": 11,
   "metadata": {},
   "outputs": [],
   "source": [
    "class Strategy(metaclass=ABCMeta):\n",
    "    def __init__(self,env:Env):\n",
    "        self.env = env\n",
    "    \n",
    "    @staticmethod\n",
    "    def action_probs(self):\n",
    "        pass\n",
    "    \n",
    "class EqualProbStrategy(Strategy):\n",
    "    def __init__(self,env:Env):\n",
    "        self.env = env\n",
    "        self.actions = self.env.get_actions()\n",
    "    \n",
    "    def action_probs(self):\n",
    "        retval = {}\n",
    "        for one_action in self.actions:\n",
    "            retval[one_action] = 1.0 / len(self.actions)\n",
    "        return retval\n",
    "    \n",
    "class TargetStrategy(Strategy):\n",
    "    def __init__(self,env:Env):\n",
    "        self.env = env\n",
    "        self.actions = self.env.get_actions()\n",
    "        self.best_strategy = np.zeros(self.env.get_state_shape())\n",
    "    \n",
    "    def action_probs(self):\n",
    "        state = self.env.observation_to_state(self.env.get_observation())\n",
    "        \n",
    "        action_to_select = self.best_strategy[tuple(state)]\n",
    "        \n",
    "        retval = {}\n",
    "        action_sum = 0\n",
    "        for action_ind,one_action in enumerate(self.actions):\n",
    "            if action_ind == action_to_select:\n",
    "                retval[one_action] = 1\n",
    "                action_sum += 1\n",
    "            else:\n",
    "                retval[one_action] = 0\n",
    "                action_sum += 0\n",
    "        assert(action_sum == 1)\n",
    "        return retval\n",
    "    \n",
    "    def set_best_strategy(self,state,action):\n",
    "        self.best_strategy[tuple(state)] = self.env.action2ind[action]"
   ]
  },
  {
   "cell_type": "code",
   "execution_count": 12,
   "metadata": {},
   "outputs": [],
   "source": [
    "class OffPolicyMcControl(metaclass=ABCMeta):\n",
    "    def __init__(self,env:Env,target_strategy:Strategy,behavior_strategy:Strategy):\n",
    "        self.env = env\n",
    "        self.target_strategy = target_strategy\n",
    "        self.behavior_strategy = behavior_strategy\n",
    "    \n",
    "    @abstractmethod\n",
    "    def set_env_random_initial_state(self):\n",
    "        pass\n",
    "    \n",
    "    @abstractmethod\n",
    "    def estimate_value(self,steps):\n",
    "        pass\n",
    "\n",
    "class RaceCarOptimizer(OffPolicyMcControl):\n",
    "    def __init__(self,env:RaceTrackEnv,target_strategy:Strategy,behavior_strategy:Strategy,\n",
    "                 discount=0.9):\n",
    "        super().__init__(env,target_strategy,behavior_strategy)\n",
    "        self.QAshape = self.env.get_state_shape() + [len(self.env.get_actions())]\n",
    "        self.discount = discount\n",
    "        self.actions = self.env.actions\n",
    "        \n",
    "        self.Q = np.zeros(self.QAshape,dtype=np.float)\n",
    "        self.C = np.zeros(self.QAshape,dtype=np.float)\n",
    "        \n",
    "    def set_env_random_initial_state(self):\n",
    "        self.env.reset()\n",
    "        \n",
    "    def backprog(self,infos):\n",
    "        (states,rewards,actions,prob_pis,prob_bes) = infos\n",
    "        G = 0.0\n",
    "        W = 1.0\n",
    "        \n",
    "        for one_state,one_reward,one_action,one_prob_pi,one_prob_be in zip(states[::-1],rewards[::-1],actions[::-1],prob_pis[::-1],prob_bes[::-1]):\n",
    "            G = G * self.discount + one_reward\n",
    "            \n",
    "            one_action_ind = self.env.action2ind[one_action]\n",
    "            state_action = tuple(one_state + [one_action_ind])\n",
    "            self.C[state_action] += W\n",
    "            self.Q[state_action] += (W / self.C[state_action]) * (G - self.Q[state_action])\n",
    "            \n",
    "            # TODO 此处仅考虑了reward为正数的情况\n",
    "            \n",
    "            best_action_ind = np.argmax(self.Q[tuple(one_state)])\n",
    "            self.target_strategy.set_best_strategy(one_state,self.actions[best_action_ind])\n",
    "            \n",
    "            if one_action_ind == best_action_ind:\n",
    "                W = W / one_prob_be\n",
    "            else:\n",
    "                break\n",
    "        \n",
    "    def monte_carlo_run(self):\n",
    "        self.set_env_random_initial_state()\n",
    "        states = []\n",
    "        actions = []\n",
    "        rewards = []\n",
    "        \n",
    "        prob_pis = []\n",
    "        prob_bes = []\n",
    "        while True:\n",
    "            state = self.env.observation_to_state(self.env.get_observation())\n",
    "            states.append(state)\n",
    "\n",
    "            nextBehaviorProbs = self.behavior_strategy.action_probs()\n",
    "            nextTargetProbs = self.target_strategy.action_probs()\n",
    "            \n",
    "            nextactions = list(nextBehaviorProbs.keys())\n",
    "            nextstep = np.random.choice(list(range(len(nextactions))),p=list(nextBehaviorProbs.values()))\n",
    "            nextstep = nextactions[nextstep]\n",
    "            \n",
    "            prob_bes.append(nextBehaviorProbs[nextstep])\n",
    "            prob_pis.append(nextTargetProbs[nextstep])\n",
    "            \n",
    "            done,observation,reward,extra = self.env.step(nextstep)\n",
    "            actions.append(nextstep)\n",
    "            rewards.append(reward)\n",
    "            if done:\n",
    "                break\n",
    "        \n",
    "        self.backprog((states,rewards,actions,prob_pis,prob_bes))\n",
    "        \n",
    "    def estimate_value(self,steps):\n",
    "        for one_step in tqdm.tqdm(range(steps)):\n",
    "            self.monte_carlo_run()\n",
    "        "
   ]
  },
  {
   "cell_type": "markdown",
   "metadata": {},
   "source": [
    "### Off policy Monte Carol Control"
   ]
  },
  {
   "cell_type": "code",
   "execution_count": 13,
   "metadata": {},
   "outputs": [],
   "source": [
    "raceTrackGenerator = RaceTrackGenerator()\n",
    "raceTrackGenerator.generate()\n",
    "\n",
    "raceTrackEnv = RaceTrackEnv(\n",
    "    raceTrackGenerator.plane,\n",
    "    raceTrackGenerator.start_points,\n",
    "    raceTrackGenerator.end_points)\n",
    "\n",
    "behaviorStrategy = EqualProbStrategy(raceTrackEnv)\n",
    "targetStrategy = TargetStrategy(raceTrackEnv)\n",
    "\n",
    "raceCarOptimizer = RaceCarOptimizer(raceTrackEnv,targetStrategy,behaviorStrategy)"
   ]
  },
  {
   "cell_type": "code",
   "execution_count": 14,
   "metadata": {},
   "outputs": [
    {
     "name": "stderr",
     "output_type": "stream",
     "text": [
      "100%|██████████| 1000/1000 [08:55<00:00,  1.87it/s]\n"
     ]
    }
   ],
   "source": [
    "raceCarOptimizer.estimate_value(1000)"
   ]
  },
  {
   "cell_type": "markdown",
   "metadata": {},
   "source": [
    "#### 可视化下这玩意"
   ]
  },
  {
   "cell_type": "code",
   "execution_count": 15,
   "metadata": {},
   "outputs": [],
   "source": [
    "def generate_one_racetrack():\n",
    "    raceTrackEnv.reset()\n",
    "    while True:\n",
    "        state = raceTrackEnv.observation_to_state(raceTrackEnv.get_observation())\n",
    "\n",
    "        nextTargetProbs = targetStrategy.action_probs()\n",
    "\n",
    "        nextactions = list(nextTargetProbs.keys())\n",
    "        nextstep = np.random.choice(list(range(len(nextactions))),p=list(nextTargetProbs.values()))\n",
    "        nextstep = nextactions[nextstep]\n",
    "\n",
    "        done,observation,reward,extra = raceTrackEnv.step(nextstep)\n",
    "        if done:\n",
    "            break\n",
    "            \n",
    "    paintplane = raceTrackGenerator.plane.copy()\n",
    "    for one_state,one_action in raceTrackEnv.history:\n",
    "        paintplane[tuple(one_state[:2])] = 3\n",
    "\n",
    "    return paintplane"
   ]
  },
  {
   "cell_type": "code",
   "execution_count": 16,
   "metadata": {},
   "outputs": [
    {
     "data": {
      "image/png": "[encoded data removed]",
      "text/plain": [
       "<Figure size 864x576 with 6 Axes>"
      ]
     },
     "metadata": {
      "needs_background": "light"
     },
     "output_type": "display_data"
    }
   ],
   "source": [
    "plt.figure(figsize=(12,8))\n",
    "for i in range(6):\n",
    "    plt.subplot(2,3,i + 1)\n",
    "    plt.imshow(generate_one_racetrack())"
   ]
  },
  {
   "cell_type": "markdown",
   "metadata": {},
   "source": [
    "可以发现off policy MC control可以很好的handle这种简单的赛车游戏，但是在更复杂的游戏里，这种简单的Mc control 几乎可以确定无法适用，原因如下：\n",
    "\n",
    "- 在Mc control中我们使用了一个random behavoir policy，这种random behavior policy在复杂的游戏中有可能几乎没法拿到reward（比如在超级玛丽，通关才算reward的时候）\n",
    "\n",
    "- 在off policy MC control back prob的时候，又一个很严苛的条件 if one_action_ind ！= best_action_ind: break，这说明如果behavior policy不能产生最佳招法，其产生的track 就无法被学习到\n",
    "\n",
    "这些条件会使得学习非常困难。"
   ]
  },
  {
   "cell_type": "code",
   "execution_count": null,
   "metadata": {},
   "outputs": [],
   "source": []
  }
 ],
 "metadata": {
  "kernelspec": {
   "display_name": "Python 3",
   "language": "python",
   "name": "python3"
  },
  "language_info": {
   "codemirror_mode": {
    "name": "ipython",
    "version": 3
   },
   "file_extension": ".py",
   "mimetype": "text/x-python",
   "name": "python",
   "nbconvert_exporter": "python",
   "pygments_lexer": "ipython3",
   "version": "3.7.4"
  }
 },
 "nbformat": 4,
 "nbformat_minor": 4
}
