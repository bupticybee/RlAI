{
 "cells": [
  {
   "cell_type": "code",
   "execution_count": 1,
   "metadata": {},
   "outputs": [],
   "source": [
    "import os\n",
    "import sys\n",
    "from matplotlib import pyplot as plt\n",
    "import random\n",
    "import numpy as np\n",
    "import pandas as pd\n",
    "import tqdm\n",
    "from abc import ABCMeta, abstractmethod, abstractproperty\n",
    "from copy import copy\n",
    "from collections import Counter\n",
    "%matplotlib inline\n",
    "plt.style.use(\"ggplot\")\n",
    "%load_ext autoreload\n",
    "%autoreload 2"
   ]
  },
  {
   "cell_type": "markdown",
   "metadata": {},
   "source": [
    "## Exercise 5.4 使用off policy估计black jacket value"
   ]
  },
  {
   "cell_type": "code",
   "execution_count": 2,
   "metadata": {},
   "outputs": [],
   "source": [
    "class Env(metaclass=ABCMeta):\n",
    "    def __init__(self,rng_seed=random.randint(0,1000)):\n",
    "        self.rng = np.random.RandomState(rng_seed)\n",
    "    \n",
    "    @staticmethod\n",
    "    def get_actions(self):\n",
    "        pass\n",
    "    \n",
    "    @abstractmethod\n",
    "    def step(self,action):\n",
    "        pass\n",
    "        # return done,observation,reward,extra\n",
    "        \n",
    "    @abstractmethod\n",
    "    def get_observation(self):\n",
    "        pass\n",
    "    \n",
    "    @abstractmethod\n",
    "    def observation_to_state(self,observation):\n",
    "        pass\n",
    "    \n",
    "    @abstractmethod\n",
    "    def get_history(self,):\n",
    "        pass\n",
    "    \n",
    "    @abstractmethod\n",
    "    def get_state_shape(self):\n",
    "        pass\n",
    "        \n",
    "    @abstractmethod\n",
    "    def reset(self):\n",
    "        pass\n",
    "    \n",
    "class BlackJackEnv(Env):\n",
    "    def __init__(self,dealer_stick=17,bust_threshold=21):\n",
    "        super().__init__()\n",
    "        self.dealer_stick = dealer_stick\n",
    "        self.cards = [1,2,3,4,5,6,7,8,9,10,10,10,10]\n",
    "        self.reset()\n",
    "        self.actions = [\"stick\",\"hit\"]\n",
    "        self.bust_threshold = bust_threshold\n",
    "    \n",
    "    def get_actions(self):\n",
    "        return self.actions\n",
    "    \n",
    "    def dealer_play(self):\n",
    "        while self.get_max_number(self.dealer_cards) < self.dealer_stick:\n",
    "            self.dealer_cards.append(self.get_random_card())\n",
    "    \n",
    "    def get_reward(self):\n",
    "        dealer_num = self.get_max_number(self.dealer_cards)\n",
    "        player_num = self.get_max_number(self.player_cards)\n",
    "        if player_num > self.bust_threshold:\n",
    "            reward = -1\n",
    "        elif dealer_num > self.bust_threshold:\n",
    "            reward = 1\n",
    "        else:\n",
    "            if dealer_num > player_num:\n",
    "                reward = -1\n",
    "            elif dealer_num == player_num:\n",
    "                reward = 0\n",
    "            else:\n",
    "                # dealer_num < player_num\n",
    "                reward = 1\n",
    "        return reward\n",
    "    \n",
    "    def step(self,action):\n",
    "        assert(action in self.actions)\n",
    "        # nature\n",
    "        if len(self.player_cards) == 2 and self.get_max_number(self.player_cards) == self.bust_threshold:\n",
    "            if self.get_max_number(self.dealer_cards) == self.bust_threshold:\n",
    "                return True,self.get_observation(),0,None\n",
    "            else:\n",
    "                return True,self.get_observation(),1,None\n",
    "        self.action_history.append(action)\n",
    "        \n",
    "        if action == \"stick\":\n",
    "            self.dealer_play()\n",
    "            reward = self.get_reward()\n",
    "            return True,self.get_observation(),reward,None\n",
    "        elif action == \"hit\":\n",
    "            self.player_cards.append(self.get_random_card())\n",
    "            if self.get_max_number(self.player_cards) < self.bust_threshold:\n",
    "                return False,self.get_observation(),0,None\n",
    "            elif self.get_max_number(self.player_cards) == self.bust_threshold:\n",
    "                return True,self.get_observation(),1,None\n",
    "            else:\n",
    "                # player busted\n",
    "                return True,self.get_observation(),-1,None\n",
    "        # return done,observation,reward,extra\n",
    "    \n",
    "    def has_unused_ace(self,cards):\n",
    "        if 1 in cards and sum(cards) + 10 <= self.bust_threshold:\n",
    "            return True\n",
    "        else:\n",
    "            return False\n",
    "    \n",
    "    def get_max_number(self,cards):\n",
    "        sumcards = sum(cards)\n",
    "        if self.has_unused_ace(cards):\n",
    "            return sumcards + 10\n",
    "        else:\n",
    "            return sumcards\n",
    "    \n",
    "    def get_max_unbusted_number(self,cards):\n",
    "        sumcards = sum(cards)\n",
    "        assert(sumcards <= self.bust_threshold)\n",
    "        if self.has_unused_ace(cards):\n",
    "            return sumcards + 10\n",
    "        else:\n",
    "            return sumcards\n",
    "    \n",
    "    def get_observation(self):\n",
    "        return (self.has_unused_ace(self.player_cards),self.player_cards,self.dealer_showcard)\n",
    "    \n",
    "    def observation_to_state(self,observation):\n",
    "        unused_ace,player_cards,dealer_showcard = observation\n",
    "        return int(unused_ace),self.get_max_unbusted_number(self.player_cards),dealer_showcard\n",
    "        \n",
    "    def get_state_shape(self):\n",
    "        return [2,22,11]\n",
    "        \n",
    "    def get_random_card(self):\n",
    "        return self.rng.choice(self.cards)\n",
    "    \n",
    "    def reset(self):\n",
    "        self.player_cards = [self.get_random_card() for i in range(2)]\n",
    "        \n",
    "        self.dealer_cards = [self.get_random_card() for i in range(2)]\n",
    "        self.dealer_showcard = self.dealer_cards[0]\n",
    "        self.action_history = []\n",
    "    \n",
    "    def get_history(self):\n",
    "        str_player =  f\"player [{self.player_cards[:2]}] -> {self.player_cards[2:]} dealer [{self.dealer_cards[:2]}] -> {self.dealer_cards[2:]}\"\n",
    "        return \"{} \\n {}\".format(str_player,\"->\".join(self.action_history))"
   ]
  },
  {
   "cell_type": "markdown",
   "metadata": {},
   "source": [
    "### 21点环境使用示例"
   ]
  },
  {
   "cell_type": "code",
   "execution_count": 4,
   "metadata": {},
   "outputs": [],
   "source": [
    "bje = BlackJackEnv()"
   ]
  },
  {
   "cell_type": "code",
   "execution_count": 5,
   "metadata": {},
   "outputs": [
    {
     "name": "stdout",
     "output_type": "stream",
     "text": [
      "(False, [9, 9], 7)\n",
      "(False, [9, 9], 7)\n",
      "(0, 18, 7)\n",
      "-1\n",
      "player [[9, 9]] -> [9] dealer [[7, 3]] -> [] \n",
      " hit\n"
     ]
    }
   ],
   "source": [
    "bje.reset()\n",
    "print(bje.get_observation())\n",
    "while True:\n",
    "    print(bje.get_observation())\n",
    "    print(bje.observation_to_state(bje.get_observation()))\n",
    "    done,observation,reward,extra = bje.step(random.choice([\"hit\",\"stick\"]))\n",
    "    if done:\n",
    "        break \n",
    "print(reward)\n",
    "print(bje.get_history())"
   ]
  },
  {
   "cell_type": "markdown",
   "metadata": {},
   "source": [
    "### off policy 环境"
   ]
  },
  {
   "cell_type": "code",
   "execution_count": 17,
   "metadata": {},
   "outputs": [],
   "source": [
    "class Strategy(metaclass=ABCMeta):\n",
    "    def __init__(self,env:Env):\n",
    "        self.env = env\n",
    "    \n",
    "    @staticmethod\n",
    "    def action_probs(self):\n",
    "        pass\n",
    "    \n",
    "class ThresholdBlackjackStrategy(Strategy):\n",
    "    def __init__(self,env:Env,stick_threshold=20):\n",
    "        self.env = env\n",
    "        self.stick_threshold = stick_threshold\n",
    "    \n",
    "    def action_probs(self):\n",
    "        if self.env.get_max_unbusted_number(self.env.player_cards) >= self.stick_threshold:\n",
    "            return {\n",
    "                \"stick\" : 1,\n",
    "                \"hit\"   : 0\n",
    "            }\n",
    "        else:\n",
    "            return {\n",
    "                \"stick\" : 0,\n",
    "                \"hit\"   : 1\n",
    "            }\n",
    "        \n",
    "class EqualProbBlackjackStrategy(Strategy):\n",
    "    def __init__(self,env:Env):\n",
    "        self.env = env\n",
    "    \n",
    "    def action_probs(self):\n",
    "        return {\n",
    "            \"stick\" : 0.5,\n",
    "            \"hit\"   : 0.5\n",
    "        }"
   ]
  },
  {
   "cell_type": "code",
   "execution_count": 116,
   "metadata": {},
   "outputs": [],
   "source": [
    "class OffPolicyValueEstimator(metaclass=ABCMeta):\n",
    "    def __init__(self,env:Env,target_strategy:Strategy,behavior_strategy:Strategy):\n",
    "        self.env = env\n",
    "        self.target_strategy = target_strategy\n",
    "        self.behavior_strategy = behavior_strategy\n",
    "        self.values = np.zeros(self.env.get_state_shape(),dtype=np.float)\n",
    "    \n",
    "    @abstractmethod\n",
    "    def set_env_random_initial_state(self):\n",
    "        pass\n",
    "    \n",
    "    @abstractmethod\n",
    "    def estimate_value(self,steps):\n",
    "        pass\n",
    "\n",
    "class BlackjackGivenStateEstimator(OffPolicyValueEstimator):\n",
    "    def __init__(self,env:Env,target_strategy:Strategy,behavior_strategy:Strategy,\n",
    "                 player_cards=[1,2],dealer_card=2):\n",
    "        super().__init__(env,target_strategy,behavior_strategy)\n",
    "        self.values_sum = np.zeros(self.env.get_state_shape(),dtype=np.float)\n",
    "        self.values_count = np.zeros(self.env.get_state_shape(),dtype=np.float)\n",
    "        self.player_cards = player_cards\n",
    "        self.dealer_card = dealer_card\n",
    "        \n",
    "    def set_env_random_initial_state(self):\n",
    "        self.env.reset()\n",
    "        self.env.player_cards = copy(self.player_cards)\n",
    "        \n",
    "        self.env.dealer_cards[0] = copy(self.dealer_card)\n",
    "        self.env.dealer_showcard = copy(self.dealer_card)\n",
    "        \n",
    "    @abstractmethod\n",
    "    def backprog(self,infos):\n",
    "        pass\n",
    "        \n",
    "    def monte_carlo_run(self):\n",
    "        self.set_env_random_initial_state()\n",
    "        states = []\n",
    "        actions = []\n",
    "        rewards = []\n",
    "        \n",
    "        prob_pis = []\n",
    "        prob_bes = []\n",
    "        while True:\n",
    "            state = self.env.observation_to_state(self.env.get_observation())\n",
    "            states.append(state)\n",
    "\n",
    "            nextBehaviorProbs = self.behavior_strategy.action_probs()\n",
    "            nextTargetProbs = self.target_strategy.action_probs()\n",
    "            \n",
    "            nextstep = np.random.choice(list(nextBehaviorProbs.keys()),p=list(nextBehaviorProbs.values()))\n",
    "            \n",
    "            prob_bes.append(nextBehaviorProbs[nextstep])\n",
    "            prob_pis.append(nextTargetProbs[nextstep])\n",
    "            \n",
    "            done,observation,reward,extra = self.env.step(nextstep)\n",
    "            actions.append(nextstep)\n",
    "            rewards.append(reward)\n",
    "            if done:\n",
    "                break\n",
    "        \n",
    "        self.backprog((states,rewards,prob_pis,prob_bes))\n",
    "        \n",
    "    def estimate_value(self,steps):\n",
    "        for one_step in tqdm.tqdm(range(steps)):\n",
    "            self.monte_carlo_run()\n",
    "        self.values = self.values_sum / (self.values_count + 1e-6)\n",
    "        \n",
    "        \n",
    "class BlackjackOrdinaryEstimator(BlackjackGivenStateEstimator):\n",
    "    def __init__(self,env:Env,target_strategy:Strategy,behavior_strategy:Strategy,\n",
    "                 player_cards=[1,2],dealer_card=2):\n",
    "        super().__init__(env,target_strategy,behavior_strategy,player_cards,dealer_card)\n",
    "        self.log_values = []\n",
    "        \n",
    "    def backprog(self,infos):\n",
    "        (states,rewards,prob_pis,prob_bes) = infos\n",
    "        # value calculation\n",
    "        G = 0\n",
    "        \n",
    "        probx_pi = 1\n",
    "        probx_be = 1\n",
    "        \n",
    "        for one_state,one_reward,one_prob_pi,one_prob_be in zip(states[::-1],rewards[::-1],prob_pis[::-1],prob_bes[::-1]):\n",
    "            G = G + one_reward\n",
    "            \n",
    "            probx_pi *= one_prob_pi\n",
    "            probx_be *= one_prob_be\n",
    "            \n",
    "            assert(probx_be != 0)\n",
    "            \n",
    "            pt = probx_pi / probx_be\n",
    "            \n",
    "            self.values_count[one_state] += 1\n",
    "            self.values_sum[one_state] += (G * pt)\n",
    "        self.log_values.append(self.values_sum[1,13,2] / (self.values_count[1,13,2] + 1e-6))\n",
    "            \n",
    "class BlackjackWeightedEstimator(BlackjackGivenStateEstimator):\n",
    "    def __init__(self,env:Env,target_strategy:Strategy,behavior_strategy:Strategy,\n",
    "                 player_cards=[1,2],dealer_card=2):\n",
    "        super().__init__(env,target_strategy,behavior_strategy,player_cards,dealer_card)\n",
    "        self.log_values = []\n",
    "        \n",
    "    def backprog(self,infos):\n",
    "        (states,rewards,prob_pis,prob_bes) = infos\n",
    "        # value calculation\n",
    "        G = 0\n",
    "        \n",
    "        probx_pi = 1\n",
    "        probx_be = 1\n",
    "        \n",
    "        for one_state,one_reward,one_prob_pi,one_prob_be in zip(states[::-1],rewards[::-1],prob_pis[::-1],prob_bes[::-1]):\n",
    "            G = G + one_reward\n",
    "            \n",
    "            probx_pi *= one_prob_pi\n",
    "            probx_be *= one_prob_be\n",
    "            \n",
    "            assert(probx_be != 0)\n",
    "            \n",
    "            pt = probx_pi / probx_be\n",
    "            \n",
    "            self.values_count[one_state] += pt\n",
    "            self.values_sum[one_state] += (G * pt)\n",
    "        self.log_values.append(self.values_sum[1,13,2] / (self.values_count[1,13,2] + 1e-6))"
   ]
  },
  {
   "cell_type": "code",
   "execution_count": 117,
   "metadata": {},
   "outputs": [],
   "source": [
    "blackJackEnv = BlackJackEnv()\n",
    "thresholdBlackjackStrategy = ThresholdBlackjackStrategy(blackJackEnv)\n",
    "equalProbBlackjackStrategy = EqualProbBlackjackStrategy(blackJackEnv)\n",
    "blackjackOrdinaryEstimator = BlackjackOrdinaryEstimator(blackJackEnv,thresholdBlackjackStrategy,equalProbBlackjackStrategy)"
   ]
  },
  {
   "cell_type": "code",
   "execution_count": 118,
   "metadata": {},
   "outputs": [
    {
     "name": "stderr",
     "output_type": "stream",
     "text": [
      "100%|██████████| 100000/100000 [00:23<00:00, 4329.76it/s]\n"
     ]
    }
   ],
   "source": [
    "blackjackOrdinaryEstimator.estimate_value(100000)"
   ]
  },
  {
   "cell_type": "code",
   "execution_count": 119,
   "metadata": {},
   "outputs": [
    {
     "data": {
      "text/plain": [
       "-0.2671199999973288"
      ]
     },
     "execution_count": 119,
     "metadata": {},
     "output_type": "execute_result"
    }
   ],
   "source": [
    "blackjackOrdinaryEstimator.values[1,13,2]"
   ]
  },
  {
   "cell_type": "code",
   "execution_count": 123,
   "metadata": {},
   "outputs": [],
   "source": [
    "blackJackEnv = BlackJackEnv()\n",
    "thresholdBlackjackStrategy = ThresholdBlackjackStrategy(blackJackEnv)\n",
    "equalProbBlackjackStrategy = EqualProbBlackjackStrategy(blackJackEnv)\n",
    "blackjackWeightedEstimator = BlackjackWeightedEstimator(blackJackEnv,thresholdBlackjackStrategy,equalProbBlackjackStrategy)"
   ]
  },
  {
   "cell_type": "code",
   "execution_count": 124,
   "metadata": {},
   "outputs": [
    {
     "name": "stderr",
     "output_type": "stream",
     "text": [
      "100%|██████████| 100000/100000 [00:20<00:00, 4956.02it/s]\n"
     ]
    }
   ],
   "source": [
    "blackjackWeightedEstimator.estimate_value(100000)"
   ]
  },
  {
   "cell_type": "code",
   "execution_count": 125,
   "metadata": {},
   "outputs": [
    {
     "data": {
      "text/plain": [
       "-0.25837193640942013"
      ]
     },
     "execution_count": 125,
     "metadata": {},
     "output_type": "execute_result"
    }
   ],
   "source": [
    "blackjackWeightedEstimator.values[1,13,2]"
   ]
  },
  {
   "cell_type": "code",
   "execution_count": 128,
   "metadata": {},
   "outputs": [
    {
     "data": {
      "text/plain": [
       "<matplotlib.axes._subplots.AxesSubplot at 0x123c0aed0>"
      ]
     },
     "execution_count": 128,
     "metadata": {},
     "output_type": "execute_result"
    },
    {
     "data": {
      "image/png": "[encoded data removed]",
      "text/plain": [
       "<Figure size 432x288 with 1 Axes>"
      ]
     },
     "metadata": {
      "needs_background": "light"
     },
     "output_type": "display_data"
    }
   ],
   "source": [
    "pd.DataFrame({\n",
    "    \"weighted\":blackjackWeightedEstimator.log_values[:10000],\n",
    "    \"ordinary\":blackjackOrdinaryEstimator.log_values[:10000]\n",
    "}).plot()"
   ]
  },
  {
   "cell_type": "code",
   "execution_count": null,
   "metadata": {},
   "outputs": [],
   "source": []
  }
 ],
 "metadata": {
  "kernelspec": {
   "display_name": "Python 3",
   "language": "python",
   "name": "python3"
  },
  "language_info": {
   "codemirror_mode": {
    "name": "ipython",
    "version": 3
   },
   "file_extension": ".py",
   "mimetype": "text/x-python",
   "name": "python",
   "nbconvert_exporter": "python",
   "pygments_lexer": "ipython3",
   "version": "3.7.4"
  }
 },
 "nbformat": 4,
 "nbformat_minor": 4
}
