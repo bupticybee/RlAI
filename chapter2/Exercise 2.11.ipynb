{
 "cells": [
  {
   "cell_type": "code",
   "execution_count": 1,
   "metadata": {},
   "outputs": [],
   "source": [
    "import os\n",
    "import sys\n",
    "from matplotlib import pyplot as plt\n",
    "import random\n",
    "import numpy as np\n",
    "import pandas as pd\n",
    "%matplotlib inline\n",
    "plt.style.use(\"ggplot\")"
   ]
  },
  {
   "cell_type": "markdown",
   "metadata": {},
   "source": [
    "## Exercise 2.11"
   ]
  },
  {
   "cell_type": "code",
   "execution_count": 2,
   "metadata": {},
   "outputs": [],
   "source": [
    "class BanditEnv(object):\n",
    "    def __init__(self,qs):\n",
    "        self.qs = qs.copy()\n",
    "        self.reset()\n",
    "    \n",
    "    def reset(self):\n",
    "        self.means = self.qs.copy()\n",
    "        self.stds = [1 for i in self.qs]\n",
    "        self.action_space = len(self.qs)\n",
    "    \n",
    "    def step(self,action):\n",
    "        std,mean = self.stds[action],self.means[action]\n",
    "        rand_raward = np.random.normal(mean,std)\n",
    "        return rand_raward"
   ]
  },
  {
   "cell_type": "code",
   "execution_count": 3,
   "metadata": {},
   "outputs": [],
   "source": [
    "class NonstationaryBanditEnv(BanditEnv):\n",
    "    def step(self,action):\n",
    "        std,mean = self.stds[action],self.means[action]\n",
    "        rand_raward = np.random.normal(mean,std)\n",
    "        for one_action in range(self.action_space):\n",
    "            self.means[one_action] += np.random.normal(0,0.01)\n",
    "        return rand_raward"
   ]
  },
  {
   "cell_type": "code",
   "execution_count": 4,
   "metadata": {},
   "outputs": [],
   "source": [
    "class SampleAverageSolver(object):\n",
    "    def __init__(self,env,e=0.1):\n",
    "        self.env = env\n",
    "        self.action_space = env.action_space\n",
    "        self.e = e\n",
    "        \n",
    "    def back(self,selected_action,reward):\n",
    "        self.action_steps[selected_action] += 1\n",
    "        if self.Qs[selected_action] == np.inf:\n",
    "            self.Qs[selected_action] = 0\n",
    "        self.Qs[selected_action] += \\\n",
    "            (1.0 / self.action_steps[selected_action]) * (reward - self.Qs[selected_action])\n",
    "        \n",
    "    def solve(self,steps):\n",
    "        self.Qs = [np.inf for i in range(self.action_space)]\n",
    "        self.action_steps = [0 for i in range(self.action_space)]\n",
    "        \n",
    "        rewards = []\n",
    "        actions = []\n",
    "        correct = []\n",
    "        for i in range(steps):\n",
    "            rand_action = np.random.randint(0,self.action_space)\n",
    "            # explore\n",
    "            if random.random() < self.e:\n",
    "                selected_action = rand_action\n",
    "            # exploit\n",
    "            else:\n",
    "                selected_action = np.argmax(self.Qs)\n",
    "            \n",
    "            reward = self.env.step(selected_action)\n",
    "            rewards.append(reward)\n",
    "            #actions.append(selected_action)\n",
    "            correct.append(selected_action == np.argmax(self.env.means))\n",
    "            self.back(selected_action,reward)\n",
    "            \n",
    "        return rewards,self.Qs,correct\n",
    "    \n",
    "class ConstStepsizeSolver(SampleAverageSolver):\n",
    "    def back(self,selected_action,reward):\n",
    "        self.action_steps[selected_action] += 1\n",
    "        if self.Qs[selected_action] == np.inf:\n",
    "            self.Qs[selected_action] = 0\n",
    "        self.Qs[selected_action] += \\\n",
    "            0.1 * (reward - self.Qs[selected_action])\n",
    "        "
   ]
  },
  {
   "cell_type": "code",
   "execution_count": 5,
   "metadata": {},
   "outputs": [],
   "source": [
    "env = NonstationaryBanditEnv(np.zeros(10))\n",
    "const_stepsize_solver = ConstStepsizeSolver(env)"
   ]
  },
  {
   "cell_type": "code",
   "execution_count": 6,
   "metadata": {},
   "outputs": [],
   "source": [
    "def graph_runner(solver,solve_steps,average_steps):\n",
    "    \n",
    "    sums = np.zeros(solve_steps)\n",
    "    corrects = np.zeros(solve_steps)\n",
    "    \n",
    "    solver.env.reset()\n",
    "    rewards,Qs,correct_action = solver.solve(solve_steps)\n",
    "    rewards = np.asarray(rewards)\n",
    "    correct_action = np.asarray(correct_action)\n",
    "    \n",
    "    sums += rewards\n",
    "    corrects += np.asarray(correct_action,np.float)\n",
    "    \n",
    "    return np.average(rewards[-average_steps:]),np.average(corrects[-average_steps:])"
   ]
  },
  {
   "cell_type": "code",
   "execution_count": 7,
   "metadata": {},
   "outputs": [],
   "source": [
    "reward_dic = {}\n",
    "acc_dic = {}\n",
    "\n",
    "xs = []\n",
    "for i in range(10):\n",
    "    random.seed(1233)\n",
    "    np.random.seed(1233)\n",
    "    e = (1.0 / 1024) * (2 ** i)\n",
    "    xs.append(e)\n",
    "    env.reset()\n",
    "    const_stepsize_solver = ConstStepsizeSolver(env,e=e)\n",
    "    avg_reward,acc = graph_runner(const_stepsize_solver,200000,100000)\n",
    "    \n",
    "    reward_dic.setdefault(\"ConstStepsizeSolver\",[])\n",
    "    reward_dic[\"ConstStepsizeSolver\"].append(avg_reward)\n",
    "    \n",
    "    acc_dic.setdefault(\"ConstStepsizeSolver\",[])\n",
    "    acc_dic[\"ConstStepsizeSolver\"].append(acc)"
   ]
  },
  {
   "cell_type": "code",
   "execution_count": 8,
   "metadata": {},
   "outputs": [
    {
     "data": {
      "text/plain": [
       "<matplotlib.axes._subplots.AxesSubplot at 0x10b5c6410>"
      ]
     },
     "execution_count": 8,
     "metadata": {},
     "output_type": "execute_result"
    },
    {
     "data": {
      "image/png": "[encoded data removed]",
      "text/plain": [
       "<Figure size 432x288 with 1 Axes>"
      ]
     },
     "metadata": {
      "needs_background": "light"
     },
     "output_type": "display_data"
    }
   ],
   "source": [
    "pd.DataFrame(reward_dic).plot()"
   ]
  },
  {
   "cell_type": "code",
   "execution_count": 9,
   "metadata": {},
   "outputs": [
    {
     "data": {
      "text/plain": [
       "<matplotlib.axes._subplots.AxesSubplot at 0x11d4e4750>"
      ]
     },
     "execution_count": 9,
     "metadata": {},
     "output_type": "execute_result"
    },
    {
     "data": {
      "image/png": "[encoded data removed]",
      "text/plain": [
       "<Figure size 432x288 with 1 Axes>"
      ]
     },
     "metadata": {
      "needs_background": "light"
     },
     "output_type": "display_data"
    }
   ],
   "source": [
    "pd.DataFrame(acc_dic).plot()"
   ]
  },
  {
   "cell_type": "code",
   "execution_count": null,
   "metadata": {},
   "outputs": [],
   "source": []
  }
 ],
 "metadata": {
  "kernelspec": {
   "display_name": "Python 3",
   "language": "python",
   "name": "python3"
  },
  "language_info": {
   "codemirror_mode": {
    "name": "ipython",
    "version": 3
   },
   "file_extension": ".py",
   "mimetype": "text/x-python",
   "name": "python",
   "nbconvert_exporter": "python",
   "pygments_lexer": "ipython3",
   "version": "3.7.4"
  }
 },
 "nbformat": 4,
 "nbformat_minor": 4
}
